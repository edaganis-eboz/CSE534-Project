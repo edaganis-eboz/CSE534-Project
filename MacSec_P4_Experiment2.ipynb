{
 "cells": [
  {
   "cell_type": "code",
   "execution_count": null,
   "id": "0d1eb236-bc0d-497d-b9ce-c72955373658",
   "metadata": {},
   "outputs": [],
   "source": [
    "from fabrictestbed_extensions.fablib.fablib import FablibManager as fablib_manager\n",
    "fablib = fablib_manager()"
   ]
  },
  {
   "cell_type": "code",
   "execution_count": null,
   "id": "254a27c1-77c8-47de-b555-29443944d224",
   "metadata": {},
   "outputs": [],
   "source": [
    "slice = fablib.new_slice(name=\"MacSec_P4_Experiment2\")"
   ]
  },
  {
   "cell_type": "code",
   "execution_count": null,
   "id": "a076fe3c-fca2-4649-85b0-de4056230f7b",
   "metadata": {},
   "outputs": [],
   "source": [
    "# site1='EDUKY'\n",
    "# site2='EDUKY'\n",
    "# site3='EDUKY'\n",
    "site1='MICH'\n",
    "site2='STAR'\n",
    "site3='NCSA'\n",
    "\n",
    "print (f'The selected sites are {site1}, {site2}, {site3}') "
   ]
  },
  {
   "cell_type": "code",
   "execution_count": null,
   "id": "41aad485-2cf8-4c8e-9326-8cc26ab4ff7d",
   "metadata": {},
   "outputs": [],
   "source": [
    "server1 = slice.add_node(name=\"Alice\", \n",
    "                      site=site1, \n",
    "                      cores=4, \n",
    "                      ram=8, \n",
    "                      disk=20, \n",
    "                      image='default_ubuntu_20')\n",
    "\n",
    "server2 = slice.add_node(name=\"Bob\", \n",
    "                      site=site3, \n",
    "                      cores=4, \n",
    "                      ram=8, \n",
    "                      disk=20, \n",
    "                      image='default_ubuntu_20')"
   ]
  },
  {
   "cell_type": "code",
   "execution_count": null,
   "id": "6dfa4cda-6b94-4587-ac36-a2effaaf3059",
   "metadata": {},
   "outputs": [],
   "source": [
    "server1_iface = server1.add_component(model='NIC_Basic').get_interfaces()[0]\n",
    "server2_iface = server2.add_component(model='NIC_Basic').get_interfaces()[0]"
   ]
  },
  {
   "cell_type": "code",
   "execution_count": null,
   "id": "3e91e5fd-1044-45dd-a742-ee838625e7c5",
   "metadata": {},
   "outputs": [],
   "source": [
    "# Add a node\n",
    "switch = slice.add_node(name=\"switch\", \n",
    "                      site=site2, \n",
    "                      cores=32, \n",
    "                      ram=16, \n",
    "                      disk=60, \n",
    "                      image='default_ubuntu_20')"
   ]
  },
  {
   "cell_type": "code",
   "execution_count": null,
   "id": "2accd060-3f37-4610-87c5-3eaf030186c2",
   "metadata": {},
   "outputs": [],
   "source": [
    "switch_iface1 = switch.add_component(model='NIC_Basic', name='net1_nic').get_interfaces()[0]\n",
    "switch_iface2 = switch.add_component(model='NIC_Basic', name='net2_nic').get_interfaces()[0]"
   ]
  },
  {
   "cell_type": "code",
   "execution_count": null,
   "id": "40eb4b20-fcaa-4462-a126-bb6e0330fd6b",
   "metadata": {},
   "outputs": [],
   "source": [
    "net1 = slice.add_l2network(name='net1', interfaces=[server1_iface, switch_iface1])"
   ]
  },
  {
   "cell_type": "code",
   "execution_count": null,
   "id": "266429ba-e575-464a-babd-f75974eb75d3",
   "metadata": {},
   "outputs": [],
   "source": [
    "net2 = slice.add_l2network(name='net2', interfaces=[switch_iface2, server2_iface])"
   ]
  },
  {
   "cell_type": "code",
   "execution_count": null,
   "id": "1daedb18-f26d-42d7-a859-68f955d49d14",
   "metadata": {},
   "outputs": [],
   "source": [
    "#Submit Slice Request\n",
    "slice.submit()"
   ]
  },
  {
   "cell_type": "code",
   "execution_count": null,
   "id": "e3163cf1-4dd8-4e1f-a38f-4db23c032a66",
   "metadata": {},
   "outputs": [],
   "source": [
    "switch = slice.get_node(name=\"switch\")     \n",
    "switch.upload_file('install_bmv2.sh', 'install_bmv2.sh')\n",
    "stdout, stderr = switch.execute(f'chmod +x install_bmv2.sh &&  ./install_bmv2.sh',quiet=True)"
   ]
  },
  {
   "cell_type": "code",
   "execution_count": null,
   "id": "33fcfee6-46b3-402a-9bfc-e7dd99f4342c",
   "metadata": {},
   "outputs": [],
   "source": [
    "server1 = slice.get_node(name=\"Alice\")\n",
    "server2 = slice.get_node(name=\"Bob\")\n",
    "stdout, stderr = server1.execute(f'sudo apt-get install -y net-tools', quiet=True)\n",
    "stdout, stderr = server2.execute(f'sudo apt-get install -y net-tools', quiet=True)\n",
    "stdout, stderr = switch.execute(f'sudo apt-get install -y net-tools', quiet=True)"
   ]
  },
  {
   "cell_type": "code",
   "execution_count": null,
   "id": "82428c8a-8f70-4970-9e2a-0bdd242301a9",
   "metadata": {},
   "outputs": [],
   "source": [
    "node1_iface = server1.get_interface(network_name='net1') \n",
    "server1_iface_name = node1_iface.get_device_name()\n",
    "print(f'server1_iface: {server1_iface_name}')\n",
    "\n",
    "node2_iface = server2.get_interface(network_name='net2') \n",
    "server2_iface_name = node2_iface.get_device_name()\n",
    "print(f'server2_iface: {server2_iface_name}')\n",
    "\n",
    "switch_iface1 = switch.get_interface(network_name='net1') \n",
    "switch_iface1_name = switch_iface1.get_device_name()\n",
    "print(f'switch_iface1: {switch_iface1_name}')\n",
    "\n",
    "switch_iface2 = switch.get_interface(network_name='net2') \n",
    "switch_iface2_name = switch_iface2.get_device_name()\n",
    "print(f'switch_iface2: {switch_iface2_name}')"
   ]
  },
  {
   "cell_type": "code",
   "execution_count": null,
   "id": "a4172acf-5f02-4fb4-b846-d01485c9b42e",
   "metadata": {},
   "outputs": [],
   "source": [
    "stdout, stderr = server1.execute(f'sudo ip link set dev {server1_iface_name} up', quiet=True)\n",
    "stdout, stderr = server2.execute(f'sudo ip link set dev {server2_iface_name} up', quiet=True)\n",
    "stdout, stderr = switch.execute(f'sudo ip link set dev {switch_iface1_name} up', quiet=True)\n",
    "stdout, stderr = switch.execute(f'sudo ip link set dev {switch_iface2_name} up', quiet=True)"
   ]
  },
  {
   "cell_type": "code",
   "execution_count": null,
   "id": "229c03a5-aa93-4898-909d-ed3019460c74",
   "metadata": {},
   "outputs": [],
   "source": [
    "server1_iface_MAC = '00:00:00:00:00:01'\n",
    "switch_iface1_MAC = '00:00:00:00:00:02'\n",
    "switch_iface2_MAC = '00:00:00:00:00:03'\n",
    "server2_iface_MAC = '00:00:00:00:00:04'"
   ]
  },
  {
   "cell_type": "code",
   "execution_count": null,
   "id": "0794a0d4-fb63-47ef-a118-b5078f1f9ac3",
   "metadata": {},
   "outputs": [],
   "source": [
    "server1_switch_subnet = \"192.168.1.0/24\"\n",
    "server1_ip = '192.168.1.10/24'\n",
    "switch_ip1 = '192.168.1.1/24'\n",
    "\n",
    "stdout, stderr = server1.execute(f'sudo ifconfig {server1_iface_name} {server1_ip}')\n",
    "stdout, stderr = switch.execute(f'sudo ifconfig {switch_iface1_name} {switch_ip1}')\n",
    "\n",
    "stdout, stderr = server1.execute(f'sudo ifconfig {server1_iface_name} hw ether {server1_iface_MAC}')\n",
    "stdout, stderr = switch.execute(f'sudo ifconfig {switch_iface1_name} hw ether {switch_iface1_MAC}')"
   ]
  },
  {
   "cell_type": "code",
   "execution_count": null,
   "id": "ec67c9a2-3a51-48eb-83ea-19a0713c9bd3",
   "metadata": {},
   "outputs": [],
   "source": [
    "server2_switch_subnet = \"192.168.2.0/24\"\n",
    "server2_ip = '192.168.2.10/24'\n",
    "switch_ip2 = '192.168.2.1/24'\n",
    "\n",
    "stdout, stderr = server2.execute(f'sudo ifconfig {server2_iface_name} {server2_ip}')\n",
    "stdout, stderr = switch.execute(f'sudo ifconfig {switch_iface2_name} {switch_ip2}')\n",
    "\n",
    "stdout, stderr = server2.execute(f'sudo ifconfig {server2_iface_name} hw ether {server2_iface_MAC}')\n",
    "stdout, stderr = switch.execute(f'sudo ifconfig {switch_iface2_name} hw ether {switch_iface2_MAC}')"
   ]
  },
  {
   "cell_type": "code",
   "execution_count": null,
   "id": "b798ba17-b6d9-41fd-8e27-ac6919e6ea95",
   "metadata": {},
   "outputs": [],
   "source": [
    "stdout, stderr = switch.execute('sudo sysctl -w net.ipv4.ip_forward=1' , quiet=True)"
   ]
  },
  {
   "cell_type": "code",
   "execution_count": null,
   "id": "d61f9deb-6418-4b3a-81c4-bba3b739d798",
   "metadata": {},
   "outputs": [],
   "source": [
    "server1.upload_directory('CSE534-Project/', 'CSE534-Project/')\n",
    "server2.upload_directory('CSE534-Project/', 'CSE534-Project/')\n",
    "switch.upload_directory('CSE534-Project/', 'CSE534-Project/')"
   ]
  },
  {
   "cell_type": "code",
   "execution_count": null,
   "id": "6e9c87f2-6690-4d1a-837c-3dde16c1c14c",
   "metadata": {},
   "outputs": [],
   "source": [
    "stdout, stderr = server1.execute('sudo apt -qq update  && sudo apt -qq upgrade -y')\n",
    "stdout, stderr = server1.execute('sudo apt -qq install python3-pip -y')\n",
    "stdout, stderr = server1.execute('pip3 install pycryptodome')\n",
    "stdout, stderr = server1.execute('pip3 install scapy')"
   ]
  },
  {
   "cell_type": "code",
   "execution_count": null,
   "id": "95efe8e4-1fcb-4e8d-a3c7-f1fbfe1e1b7d",
   "metadata": {},
   "outputs": [],
   "source": [
    "stdout, stderr = server2.execute('sudo apt -qq update  && sudo apt -qq upgrade -y')\n",
    "stdout, stderr = server2.execute('sudo apt -qq install python3-pip -y')\n",
    "stdout, stderr = server2.execute('pip3 install pycryptodome')\n",
    "stdout, stderr = server2.execute('pip3 install scapy')"
   ]
  },
  {
   "cell_type": "code",
   "execution_count": null,
   "id": "2fc0053c-9f02-4b1e-8dce-8aa52aff312b",
   "metadata": {},
   "outputs": [],
   "source": [
    "stdout, stderr = switch.execute(f'sudo ip route del {server1_switch_subnet}', quiet=True)\n",
    "stdout, stderr = switch.execute(f'sudo ip route del {server2_switch_subnet}', quiet=True)"
   ]
  },
  {
   "cell_type": "code",
   "execution_count": null,
   "id": "27f140d8-5d9d-4b62-b9ed-520230e8f27d",
   "metadata": {},
   "outputs": [],
   "source": [
    "gw1 = switch_ip1.split('/')[0] # gw1 -> 192.168.1.1 \n",
    "gw2 = switch_ip2.split('/')[0] # gw2 -> 192.168.2.1\n",
    "stdout, stderr = server1.execute(f'sudo ip route add {server2_switch_subnet} via {gw1}')\n",
    "stdout, stderr = server2.execute(f'sudo ip route add {server1_switch_subnet} via {gw2}')"
   ]
  },
  {
   "cell_type": "code",
   "execution_count": null,
   "id": "fc086e5b-4586-4248-bf2b-8d02b8fb6a7e",
   "metadata": {},
   "outputs": [],
   "source": [
    "stdout, stderr = server1.execute(f'sudo arp -s {gw1} {switch_iface1_MAC}')\n",
    "stdout, stderr = server2.execute(f'sudo arp -s {gw2} {switch_iface2_MAC}')"
   ]
  },
  {
   "cell_type": "code",
   "execution_count": null,
   "id": "989e3652-57e3-4052-b7ef-0d1388c98fd3",
   "metadata": {},
   "outputs": [],
   "source": [
    "stdout, stderr = switch.execute(f'cd CSE534-Project/toy_router')\n",
    "stdout, stderr = switch.execute(f'p4c main.p4')\n",
    "stdout, stderr = switch.execute(f'sudo pkill simple_switch')\n",
    "stdout, stderr = switch.execute(f'sudo simple_switch -i 0@{switch_iface1_name} -i 1@{switch_iface2_name} main.json &')"
   ]
  },
  {
   "cell_type": "code",
   "execution_count": null,
   "id": "afb4e104-6899-4882-a503-56694d5fc2e5",
   "metadata": {},
   "outputs": [],
   "source": [
    "stdout, stderr = switch.execute('chmod +x rules.sh && ./rules.sh')"
   ]
  },
  {
   "cell_type": "markdown",
   "id": "b55c8a85-8726-47d5-8309-8d17cfbcc418",
   "metadata": {},
   "source": [
    "Topology"
   ]
  },
  {
   "cell_type": "code",
   "execution_count": null,
   "id": "649331b7-45c0-41dc-9f00-28003ec25214",
   "metadata": {},
   "outputs": [],
   "source": [
    "l2_nets = [(n.get_name(), {'color': 'lavender'}) for n in slice.get_l2networks() ]\n",
    "l3_nets = [(n.get_name(), {'color': 'pink'}) for n in slice.get_l3networks() ]\n",
    "hosts   =   [(n.get_name(), {'color': 'lightblue'}) for n in slice.get_nodes()]\n",
    "nodes = l2_nets + l3_nets + hosts\n",
    "ifaces = [iface.toDict() for iface in slice.get_interfaces()]\n",
    "edges = [(iface['network'], iface['node'], \n",
    "          {'label': iface['physical_dev'] + '\\n' + iface['ip_addr'] + '\\n' + iface['mac']}) for iface in ifaces]"
   ]
  },
  {
   "cell_type": "code",
   "execution_count": null,
   "id": "36fc532f-676d-4441-b8d5-ab58ea25c6f6",
   "metadata": {},
   "outputs": [],
   "source": [
    "import networkx as nx\n",
    "import matplotlib.pyplot as plt\n",
    "plt.figure(figsize=(len(nodes),len(nodes)))\n",
    "G = nx.Graph()\n",
    "G.add_nodes_from(nodes)\n",
    "G.add_edges_from(edges)\n",
    "pos = nx.spring_layout(G)\n",
    "nx.draw(G, pos, node_shape='s',  \n",
    "        node_color=[n[1]['color'] for n in nodes], \n",
    "        node_size=[len(n[0])*400 for n in nodes],  \n",
    "        with_labels=True);\n",
    "nx.draw_networkx_edge_labels(G,pos,\n",
    "                             edge_labels=nx.get_edge_attributes(G,'label'),\n",
    "                             font_color='gray',  font_size=8, rotate=False);"
   ]
  },
  {
   "cell_type": "code",
   "execution_count": null,
   "id": "39c65344-6846-4c16-8827-80bc927d9c13",
   "metadata": {},
   "outputs": [],
   "source": [
    "from datetime import datetime\n",
    "from datetime import timezone\n",
    "from datetime import timedelta\n",
    "\n",
    "# Set end date to 3 days from now\n",
    "end_date = (datetime.now(timezone.utc) + timedelta(days=7)).strftime(\"%Y-%m-%d %H:%M:%S %z\")\n",
    "slice.renew(end_date)"
   ]
  },
  {
   "cell_type": "code",
   "execution_count": null,
   "id": "6805a012-77d2-4cb3-9719-f2366d288d02",
   "metadata": {},
   "outputs": [],
   "source": [
    "slice = fablib.get_slice(name=\"MacSec_P4_Experiment2\")\n",
    "fablib.delete_slice(\"MacSec_P4_Experiment2\")"
   ]
  },
  {
   "cell_type": "code",
   "execution_count": null,
   "id": "8e0efa86-a974-46d0-beab-9c13523dd572",
   "metadata": {},
   "outputs": [],
   "source": [
    "# slice should end up in \"Dead\" state\n",
    "# re-run this cell until you see it in \"Dead\" state\n",
    "slice.update()\n",
    "_ = slice.show()"
   ]
  }
 ],
 "metadata": {
  "kernelspec": {
   "display_name": "Python 3 (ipykernel)",
   "language": "python",
   "name": "python3"
  },
  "language_info": {
   "codemirror_mode": {
    "name": "ipython",
    "version": 3
   },
   "file_extension": ".py",
   "mimetype": "text/x-python",
   "name": "python",
   "nbconvert_exporter": "python",
   "pygments_lexer": "ipython3",
   "version": "3.11.8"
  }
 },
 "nbformat": 4,
 "nbformat_minor": 5
}
